{
 "cells": [
  {
   "cell_type": "markdown",
   "metadata": {},
   "source": [
    "# Ans-1"
   ]
  },
  {
   "cell_type": "raw",
   "metadata": {},
   "source": [
    "Values - 'hello' , -87.8 , 6\n",
    "Expression - * , - , / , +"
   ]
  },
  {
   "cell_type": "markdown",
   "metadata": {},
   "source": [
    "# Ans-2"
   ]
  },
  {
   "cell_type": "raw",
   "metadata": {},
   "source": [
    "A variable is a store of information \n",
    "A string is a type of information we would store in a variable.\n",
    "Ex - x = \"hello\"\n",
    "here x is a variable and \"hello\" is a string."
   ]
  },
  {
   "cell_type": "markdown",
   "metadata": {},
   "source": [
    "# Ans - 3"
   ]
  },
  {
   "cell_type": "raw",
   "metadata": {},
   "source": [
    "List - It is an ordered collection of data items . All the items in a list need not to be same . It is one of the most widely used data item in python . it is declared by using square brackets[].\n",
    "Strings - It is a collection of characters. We can use single and double quotes to represent strings.\n",
    "Tuple - It is an ordered sequence of items same as list but the items in tuple cannot be modified so the tuples are immutable . it is define inside round brackets()."
   ]
  },
  {
   "cell_type": "markdown",
   "metadata": {},
   "source": [
    "# Ans-4"
   ]
  },
  {
   "cell_type": "raw",
   "metadata": {},
   "source": [
    "An expression is a combination of values , variables and operators.All the expression is used for evaluation and find a value"
   ]
  },
  {
   "cell_type": "markdown",
   "metadata": {},
   "source": [
    "# Ans-5"
   ]
  },
  {
   "cell_type": "raw",
   "metadata": {},
   "source": [
    "Statement represents an action or command that has to be taken ex- print statement,assignment statements\n",
    "Expression is a combination of values ,variable and operators that yields a result value"
   ]
  },
  {
   "cell_type": "markdown",
   "metadata": {},
   "source": [
    "# Ans-6"
   ]
  },
  {
   "cell_type": "raw",
   "metadata": {},
   "source": [
    "bacon = 22\n",
    "bacon+1\n",
    "so bacon contains 22"
   ]
  },
  {
   "cell_type": "markdown",
   "metadata": {},
   "source": [
    "# Ans-7"
   ]
  },
  {
   "cell_type": "raw",
   "metadata": {},
   "source": [
    "'spam'+'spamspam'\n",
    "'spam'*3\n",
    "Both the terms mentioned above results a same value i.e.'spamspamspam'"
   ]
  },
  {
   "cell_type": "markdown",
   "metadata": {},
   "source": [
    "# Ans-8"
   ]
  },
  {
   "cell_type": "raw",
   "metadata": {},
   "source": [
    "Because the variable names cannot start with no."
   ]
  },
  {
   "cell_type": "markdown",
   "metadata": {},
   "source": [
    "# Ans-9"
   ]
  },
  {
   "cell_type": "raw",
   "metadata": {},
   "source": [
    "for integer - int()\n",
    "for floating point value- float()\n",
    "for string - str()"
   ]
  },
  {
   "cell_type": "markdown",
   "metadata": {},
   "source": [
    "# Ans-10"
   ]
  },
  {
   "cell_type": "raw",
   "metadata": {},
   "source": [
    "The expression cause an error because 99 is an integer and string is only concatenate to string . The correct way is\n",
    "'I have eaten'+str(99)+'burritos'"
   ]
  },
  {
   "cell_type": "code",
   "execution_count": null,
   "metadata": {},
   "outputs": [],
   "source": []
  }
 ],
 "metadata": {
  "kernelspec": {
   "display_name": "Python 3",
   "language": "python",
   "name": "python3"
  },
  "language_info": {
   "codemirror_mode": {
    "name": "ipython",
    "version": 3
   },
   "file_extension": ".py",
   "mimetype": "text/x-python",
   "name": "python",
   "nbconvert_exporter": "python",
   "pygments_lexer": "ipython3",
   "version": "3.7.6"
  }
 },
 "nbformat": 4,
 "nbformat_minor": 4
}
